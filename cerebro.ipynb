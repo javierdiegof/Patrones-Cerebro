{
 "cells": [
  {
   "cell_type": "code",
   "execution_count": 1,
   "metadata": {},
   "outputs": [
    {
     "name": "stderr",
     "output_type": "stream",
     "text": [
      "/home/javier/anaconda3/lib/python3.6/site-packages/skimage/viewer/utils/core.py:10: UserWarning: Recommended matplotlib backend is `Agg` for full skimage.viewer functionality.\n",
      "  warn(\"Recommended matplotlib backend is `Agg` for full \"\n"
     ]
    }
   ],
   "source": [
    "import numpy as np\n",
    "import matplotlib as mpl\n",
    "import skimage\n",
    "from skimage import io, viewer\n",
    "import scipy.signal\n",
    "from skimage.filters import threshold_otsu, threshold_adaptive\n",
    "from skimage.filters import threshold_mean\n",
    "from collections import deque\n",
    "import math"
   ]
  },
  {
   "cell_type": "code",
   "execution_count": 2,
   "metadata": {},
   "outputs": [],
   "source": [
    "def change(original):\n",
    "    changed = np.array(original, copy=True)\n",
    "    for i in range(original.shape[0]):\n",
    "        for j in range(original.shape[1]):\n",
    "            origpx = original[i][j]\n",
    "            if origpx < 0.4:\n",
    "                changed[i][j] = (5.0/8.0)*origpx\n",
    "            elif (origpx > 0.4 and origpx < 0.6):\n",
    "                changed[i][j] = origpx\n",
    "            else:\n",
    "                changed[i][j] = (3.0/8.0)*origpx + (3.0/8.0)    \n",
    "    return changed"
   ]
  },
  {
   "cell_type": "code",
   "execution_count": 3,
   "metadata": {},
   "outputs": [],
   "source": [
    "def revert(modified):\n",
    "    reverted = np.array(modified, copy=True)\n",
    "    for i in range(modified.shape[0]):\n",
    "        for j in range(modified.shape[1]):\n",
    "            modipx = modified[i][j]\n",
    "            if modipx < 0.4:\n",
    "                reverted[i][j] = (8.0/5.0)*modipx\n",
    "            elif (modipx > 0.4 and modipx < 0.6):\n",
    "                reverted[i][j] = modipx\n",
    "            else:\n",
    "                reverted[i][j] = (8.0/3.0)*modipx - 1.0\n",
    "    return reverted"
   ]
  },
  {
   "cell_type": "code",
   "execution_count": 4,
   "metadata": {},
   "outputs": [],
   "source": [
    "def mychange(original):\n",
    "    changed = np.array(original, copy=True)\n",
    "    for i in range(original.shape[0]):\n",
    "        for j in range(original.shape[1]):\n",
    "            origpx = original[i][j]\n",
    "            if origpx > 0.4:\n",
    "                changed[i][j] = 1.5*origpx\n",
    "            else:\n",
    "                changed[i][j] = 0.666*origpx    \n",
    "    return changed"
   ]
  },
  {
   "cell_type": "code",
   "execution_count": 5,
   "metadata": {},
   "outputs": [],
   "source": [
    "def neighbours(pixel):\n",
    "    neighs = []\n",
    "    xp1 = pixel.copy()\n",
    "    xp1[1] = xp1[1] + 1\n",
    "    neighs.append(xp1)\n",
    "    xp2 = pixel.copy()\n",
    "    xp2[0] = xp2[0]+1\n",
    "    xp2[1] = xp2[1]+1\n",
    "    neighs.append(xp2)\n",
    "    \n",
    "    xp3 = pixel.copy()\n",
    "    xp3[0] = xp3[0]+1\n",
    "    neighs.append(xp3)\n",
    "    \n",
    "    xp4 = pixel.copy()\n",
    "    xp4[0] = xp4[0]+1\n",
    "    xp4[1] = xp4[1]-1\n",
    "    neighs.append(xp4)\n",
    "    \n",
    "    xp5 = pixel.copy()\n",
    "    xp5[1] = xp5[1]-1\n",
    "    neighs.append(xp5)\n",
    "    \n",
    "    xp6 = pixel.copy()\n",
    "    xp6[0] = xp6[0]-1\n",
    "    xp6[1] = xp6[1]-1\n",
    "    neighs.append(xp6)\n",
    "    \n",
    "    xp7 = pixel.copy()\n",
    "    xp7[0] = xp7[0]-1\n",
    "    neighs.append(xp7)\n",
    "    \n",
    "    xp8 = pixel.copy()\n",
    "    xp8[0] = xp8[0]-1\n",
    "    xp8[1] = xp8[1]+1\n",
    "    neighs.append(xp8)\n",
    "    return neighs"
   ]
  },
  {
   "cell_type": "code",
   "execution_count": 6,
   "metadata": {},
   "outputs": [],
   "source": [
    "def distneighs(pixel, image):\n",
    "    pixval = image[pixel[0], pixel[1]]\n",
    "    neighs = neighbours(pixel)\n",
    "    #print(\"sus vecinos son: \", neighs)\n",
    "    distance = 0.0\n",
    "    for elem in neighs:\n",
    "        elemval = image[elem[0], elem[1]]\n",
    "        distance += (pixval-elemval)**2\n",
    "    return math.sqrt(distance)"
   ]
  },
  {
   "cell_type": "code",
   "execution_count": 7,
   "metadata": {},
   "outputs": [],
   "source": [
    "def reggrow(image, seedpix, threshold):\n",
    "    new_image = np.array(image, copy=True)\n",
    "    pixset = set()\n",
    "    qu = deque([])\n",
    "    qu.append(seedpix)\n",
    "    while qu:\n",
    "        act = qu.pop()\n",
    "        distance = distneighs(act, denoised)\n",
    "        if(distance < threshold):\n",
    "            new_image[act[0], act[1]] = 1\n",
    "            pixset.add(tuple(act))\n",
    "            for elem in neighbours(act):\n",
    "                if tuple(elem) not in pixset:\n",
    "                    qu.append(elem)\n",
    "    clean_image = np.array(new_image, copy=True)\n",
    "    for i in range(clean_image.shape[0]):\n",
    "        for j in range(clean_image.shape[1]):\n",
    "            if(clean_image[i][j] != 1):\n",
    "                clean_image[i][j] = 0\n",
    "    return clean_image"
   ]
  },
  {
   "cell_type": "code",
   "execution_count": 8,
   "metadata": {},
   "outputs": [
    {
     "data": {
      "text/plain": [
       "[]"
      ]
     },
     "execution_count": 8,
     "metadata": {},
     "output_type": "execute_result"
    }
   ],
   "source": [
    "degraded = io.imread(\"imagenes/midbrainDegraded.png\", as_grey=True)\n",
    "viewer.ImageViewer(degraded).show()"
   ]
  },
  {
   "cell_type": "code",
   "execution_count": 9,
   "metadata": {},
   "outputs": [
    {
     "data": {
      "text/plain": [
       "[]"
      ]
     },
     "execution_count": 9,
     "metadata": {},
     "output_type": "execute_result"
    }
   ],
   "source": [
    "revertcolors = revert(degraded)\n",
    "viewer.ImageViewer(revertcolors).show()"
   ]
  },
  {
   "cell_type": "code",
   "execution_count": 10,
   "metadata": {},
   "outputs": [
    {
     "data": {
      "text/plain": [
       "[]"
      ]
     },
     "execution_count": 10,
     "metadata": {},
     "output_type": "execute_result"
    }
   ],
   "source": [
    "mychanged = mychange(revertcolors)\n",
    "viewer.ImageViewer(mychanged).show()"
   ]
  },
  {
   "cell_type": "code",
   "execution_count": 21,
   "metadata": {},
   "outputs": [
    {
     "data": {
      "text/plain": [
       "[]"
      ]
     },
     "execution_count": 21,
     "metadata": {},
     "output_type": "execute_result"
    }
   ],
   "source": [
    "threshimage = mychanged > 0.65\n",
    "viewer.ImageViewer(threshimage).show()"
   ]
  },
  {
   "cell_type": "code",
   "execution_count": 22,
   "metadata": {},
   "outputs": [
    {
     "data": {
      "text/plain": [
       "[]"
      ]
     },
     "execution_count": 22,
     "metadata": {},
     "output_type": "execute_result"
    }
   ],
   "source": [
    "blur_kernel = np.array([[1,1,1],[1,1,1],[1,1,1]])/9.0;\n",
    "denoised = np.array(threshimage, copy=True)\n",
    "for i in range(3):\n",
    "    denoised = scipy.signal.convolve2d(denoised, blur_kernel, \"same\")\n",
    "viewer.ImageViewer(denoised).show()"
   ]
  },
  {
   "cell_type": "code",
   "execution_count": null,
   "metadata": {},
   "outputs": [],
   "source": [
    "newimage = reggrow(denoised, [327,339], 0.2)\n",
    "viewer.ImageViewer(newimage).show()"
   ]
  },
  {
   "cell_type": "code",
   "execution_count": null,
   "metadata": {},
   "outputs": [],
   "source": []
  }
 ],
 "metadata": {
  "kernelspec": {
   "display_name": "Python 3",
   "language": "python",
   "name": "python3"
  },
  "language_info": {
   "codemirror_mode": {
    "name": "ipython",
    "version": 3
   },
   "file_extension": ".py",
   "mimetype": "text/x-python",
   "name": "python",
   "nbconvert_exporter": "python",
   "pygments_lexer": "ipython3",
   "version": "3.6.5"
  }
 },
 "nbformat": 4,
 "nbformat_minor": 2
}
