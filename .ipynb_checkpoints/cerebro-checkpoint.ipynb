{
 "cells": [
  {
   "cell_type": "code",
   "execution_count": 152,
   "metadata": {},
   "outputs": [],
   "source": [
    "import numpy as np\n",
    "import matplotlib as mpl\n",
    "import skimage\n",
    "from skimage import io, viewer\n",
    "import scipy.signal"
   ]
  },
  {
   "cell_type": "code",
   "execution_count": 80,
   "metadata": {},
   "outputs": [],
   "source": [
    "def change(original):\n",
    "    changed = np.array(original, copy=True)\n",
    "    for i in range(original.shape[0]):\n",
    "        for j in range(original.shape[1]):\n",
    "            origpx = original[i][j]\n",
    "            if origpx < 0.4:\n",
    "                changed[i][j] = (5.0/8.0)*origpx\n",
    "            elif (origpx > 0.4 and origpx < 0.6):\n",
    "                changed[i][j] = origpx\n",
    "            else:\n",
    "                changed[i][j] = (3.0/8.0)*origpx + (3.0/8.0)    \n",
    "    return changed"
   ]
  },
  {
   "cell_type": "code",
   "execution_count": 133,
   "metadata": {},
   "outputs": [],
   "source": [
    "def revert(modified):\n",
    "    reverted = np.array(modified, copy=True)\n",
    "    for i in range(modified.shape[0]):\n",
    "        for j in range(modified.shape[1]):\n",
    "            modipx = modified[i][j]\n",
    "            if modipx < 0.4:\n",
    "                reverted[i][j] = (8.0/5.0)*modipx\n",
    "            elif (modipx > 0.4 and modipx < 0.6):\n",
    "                reverted[i][j] = modipx\n",
    "            else:\n",
    "                reverted[i][j] = (8.0/3.0)*modipx - 1.0\n",
    "    return reverted"
   ]
  },
  {
   "cell_type": "code",
   "execution_count": 148,
   "metadata": {},
   "outputs": [],
   "source": [
    "def mychange(original):\n",
    "    changed = np.array(original, copy=True)\n",
    "    for i in range(original.shape[0]):\n",
    "        for j in range(original.shape[1]):\n",
    "            origpx = original[i][j]\n",
    "            if origpx > 0.4:\n",
    "                changed[i][j] = 1.5*origpx\n",
    "            else:\n",
    "                changed[i][j] = 0.666*origpx    \n",
    "    return changed"
   ]
  },
  {
   "cell_type": "code",
   "execution_count": 174,
   "metadata": {},
   "outputs": [
    {
     "data": {
      "text/plain": [
       "[]"
      ]
     },
     "execution_count": 174,
     "metadata": {},
     "output_type": "execute_result"
    }
   ],
   "source": [
    "degraded = io.imread(\"imagenes/midbrainDegraded.png\", as_grey=True)\n",
    "viewer.ImageViewer(degraded).show()"
   ]
  },
  {
   "cell_type": "code",
   "execution_count": 175,
   "metadata": {},
   "outputs": [
    {
     "data": {
      "text/plain": [
       "[]"
      ]
     },
     "execution_count": 175,
     "metadata": {},
     "output_type": "execute_result"
    }
   ],
   "source": [
    "revertcolors = revert(degraded)\n",
    "viewer.ImageViewer(revertcolors).show()"
   ]
  },
  {
   "cell_type": "code",
   "execution_count": 193,
   "metadata": {},
   "outputs": [
    {
     "data": {
      "text/plain": [
       "[]"
      ]
     },
     "execution_count": 193,
     "metadata": {},
     "output_type": "execute_result"
    }
   ],
   "source": [
    "mychanged = mychange(revertcolors)\n",
    "viewer.ImageViewer(mychanged).show()"
   ]
  },
  {
   "cell_type": "code",
   "execution_count": 194,
   "metadata": {},
   "outputs": [
    {
     "data": {
      "text/plain": [
       "[]"
      ]
     },
     "execution_count": 194,
     "metadata": {},
     "output_type": "execute_result"
    }
   ],
   "source": [
    "blur_kernel = np.array([[1,4,7,4,1],[4,16,26,16,4],[7,26,41,26,7],[4,16,26,16,4],[1,4,7,4,1]])/273.0;\n",
    "denoised = np.array(mychanged, copy=True)\n",
    "for i in range(100):\n",
    "    denoised = scipy.signal.convolve2d(denoised, blur_kernel, 'valid')\n",
    "viewer.ImageViewer(denoised).show()"
   ]
  },
  {
   "cell_type": "code",
   "execution_count": null,
   "metadata": {},
   "outputs": [],
   "source": []
  }
 ],
 "metadata": {
  "kernelspec": {
   "display_name": "Python 3",
   "language": "python",
   "name": "python3"
  },
  "language_info": {
   "codemirror_mode": {
    "name": "ipython",
    "version": 3
   },
   "file_extension": ".py",
   "mimetype": "text/x-python",
   "name": "python",
   "nbconvert_exporter": "python",
   "pygments_lexer": "ipython3",
   "version": "3.6.5"
  }
 },
 "nbformat": 4,
 "nbformat_minor": 2
}
